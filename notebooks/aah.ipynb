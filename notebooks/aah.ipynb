{
 "cells": [
  {
   "cell_type": "code",
   "execution_count": 1,
   "id": "9d3a9f90",
   "metadata": {},
   "outputs": [],
   "source": [
    "import os\n",
    "import numpy as np\n",
    "import tensorflow as tf\n",
    "import matplotlib.pyplot as plt\n",
    "import seaborn as sns\n",
    "from PIL import Image\n",
    "from sklearn.metrics import confusion_matrix, classification_report"
   ]
  },
  {
   "cell_type": "code",
   "execution_count": 2,
   "id": "5a73c36d",
   "metadata": {},
   "outputs": [],
   "source": [
    "# ====================\n",
    "# CONFIG\n",
    "# ====================\n",
    "dataset_root = 'ParkinsonsDetection\\Dataset' \n",
    "img_size = (224, 224)\n",
    "batch_size = 2\n",
    "epochs = 10\n",
    "class_names = ['Non-Demented', 'Very-Mild-Demented', 'Mild-Demented', 'Moderate-Demented', 'Severe-Demented']\n",
    "num_classes = len(class_names)\n",
    "class_to_idx = {name: i for i, name in enumerate(class_names)}\n",
    "\n",
    "model_path = \"models\\dementia_model.h5\"\n",
    "conf_matrix_path = \"confusion_matrix_val.png\"\n",
    "training_plot_path = \"training_plot.png\""
   ]
  },
  {
   "cell_type": "code",
   "execution_count": 3,
   "id": "47e33123",
   "metadata": {},
   "outputs": [],
   "source": [
    "# ====================\n",
    "# DATASET LOADER\n",
    "# ====================\n",
    "def load_data(image_dir, label_dir):\n",
    "    images = []\n",
    "    labels = []\n",
    "    for filename in os.listdir(image_dir):\n",
    "        if not filename.lower().endswith(('.png', '.jpg', '.jpeg')):\n",
    "            continue\n",
    "        img_path = os.path.join(image_dir, filename)\n",
    "        label_path = os.path.join(label_dir, os.path.splitext(filename)[0] + '.txt')\n",
    "        with open(label_path, 'r') as f:\n",
    "            line = f.readline().strip()\n",
    "            class_index = int(line.split()[0])  # ⬅️ Extract just the class number\n",
    "\n",
    "        img = Image.open(img_path).convert('RGB').resize(img_size)\n",
    "        images.append(np.array(img))\n",
    "        labels.append(class_index)\n",
    "\n",
    "    images = np.array(images) / 255.0\n",
    "    labels = tf.keras.utils.to_categorical(labels, num_classes)\n",
    "    return images, labels\n",
    "\n"
   ]
  },
  {
   "cell_type": "code",
   "execution_count": 4,
   "id": "6cabb62e",
   "metadata": {},
   "outputs": [],
   "source": [
    "# Load train and validation data\n",
    "X_train, y_train = load_data(\n",
    "    os.path.join(dataset_root, 'train', 'images'),\n",
    "    os.path.join(dataset_root, 'train', 'labels')\n",
    ")\n",
    "X_val, y_val = load_data(\n",
    "    os.path.join(dataset_root, 'test', 'images'),\n",
    "    os.path.join(dataset_root, 'test', 'labels')\n",
    ")"
   ]
  },
  {
   "cell_type": "code",
   "execution_count": 5,
   "id": "14abf888",
   "metadata": {},
   "outputs": [
    {
     "name": "stdout",
     "output_type": "stream",
     "text": [
      "start training\n",
      "Epoch 1/10\n",
      "1801/1801 [==============================] - 326s 180ms/step - loss: 0.4324 - accuracy: 0.8345 - val_loss: 0.0994 - val_accuracy: 0.9618\n",
      "Epoch 2/10\n",
      "1801/1801 [==============================] - 351s 195ms/step - loss: 0.2150 - accuracy: 0.9261 - val_loss: 0.1183 - val_accuracy: 0.9554\n",
      "Epoch 3/10\n",
      "1801/1801 [==============================] - 366s 203ms/step - loss: 0.1752 - accuracy: 0.9342 - val_loss: 0.1449 - val_accuracy: 0.9490\n",
      "Epoch 4/10\n",
      "1801/1801 [==============================] - 361s 200ms/step - loss: 0.1291 - accuracy: 0.9522 - val_loss: 0.0945 - val_accuracy: 0.9682\n",
      "Epoch 5/10\n",
      "1801/1801 [==============================] - 357s 198ms/step - loss: 0.1191 - accuracy: 0.9586 - val_loss: 0.0648 - val_accuracy: 0.9809\n",
      "Epoch 6/10\n",
      "1801/1801 [==============================] - 352s 196ms/step - loss: 0.1042 - accuracy: 0.9625 - val_loss: 0.0825 - val_accuracy: 0.9682\n",
      "Epoch 7/10\n",
      "1801/1801 [==============================] - 352s 196ms/step - loss: 0.0909 - accuracy: 0.9670 - val_loss: 0.0761 - val_accuracy: 0.9745\n",
      "Epoch 8/10\n",
      "1801/1801 [==============================] - 354s 197ms/step - loss: 0.0683 - accuracy: 0.9750 - val_loss: 0.2043 - val_accuracy: 0.9363\n",
      "Epoch 9/10\n",
      "1801/1801 [==============================] - 352s 195ms/step - loss: 0.0591 - accuracy: 0.9786 - val_loss: 0.1111 - val_accuracy: 0.9618\n",
      "Epoch 10/10\n",
      "1801/1801 [==============================] - 399s 222ms/step - loss: 0.0549 - accuracy: 0.9795 - val_loss: 0.3021 - val_accuracy: 0.9427\n"
     ]
    }
   ],
   "source": [
    "# ====================\n",
    "# MODEL\n",
    "# ====================\n",
    "model = tf.keras.models.Sequential([\n",
    "    tf.keras.layers.Conv2D(16, (3, 3), activation='relu', input_shape=(224, 224, 3)),\n",
    "    tf.keras.layers.MaxPooling2D(),\n",
    "    tf.keras.layers.Conv2D(32, (3, 3), activation='relu'),\n",
    "    tf.keras.layers.MaxPooling2D(),\n",
    "    tf.keras.layers.Conv2D(64, (3, 3), activation='relu'),\n",
    "    tf.keras.layers.MaxPooling2D(),\n",
    "    tf.keras.layers.Flatten(),\n",
    "    tf.keras.layers.Dense(256, activation='relu'),\n",
    "    tf.keras.layers.Dropout(0.5),\n",
    "    tf.keras.layers.Dense(num_classes, activation='softmax')\n",
    "])\n",
    "\n",
    "model.compile(optimizer='adam', loss='categorical_crossentropy', metrics=['accuracy'])\n",
    "\n",
    "# ====================\n",
    "# TRAINING\n",
    "# ====================\n",
    "print(\"start training\")\n",
    "history = model.fit(\n",
    "    X_train, y_train,\n",
    "    validation_data=(X_val, y_val),\n",
    "    batch_size=batch_size,\n",
    "    epochs=epochs\n",
    ")"
   ]
  },
  {
   "cell_type": "code",
   "execution_count": 6,
   "id": "69ba847b",
   "metadata": {},
   "outputs": [
    {
     "name": "stderr",
     "output_type": "stream",
     "text": [
      "C:\\Users\\calviet\\AppData\\Roaming\\Python\\Python311\\site-packages\\keras\\src\\engine\\training.py:3000: UserWarning: You are saving your model as an HDF5 file via `model.save()`. This file format is considered legacy. We recommend using instead the native Keras format, e.g. `model.save('my_model.keras')`.\n",
      "  saving_api.save_model(\n"
     ]
    },
    {
     "name": "stdout",
     "output_type": "stream",
     "text": [
      "✅ Model saved as models\\dementia_model.h5\n"
     ]
    }
   ],
   "source": [
    "# ====================\n",
    "# SAVE MODEL\n",
    "# ====================\n",
    "model.save(model_path)\n",
    "print(f\"✅ Model saved as {model_path}\")"
   ]
  },
  {
   "cell_type": "code",
   "execution_count": 7,
   "id": "4e564b18",
   "metadata": {},
   "outputs": [
    {
     "name": "stdout",
     "output_type": "stream",
     "text": [
      "📈 Training plot saved as training_plot.png\n"
     ]
    }
   ],
   "source": [
    "# ====================\n",
    "# TRAINING PLOT\n",
    "# ====================\n",
    "plt.figure(figsize=(10, 5))\n",
    "plt.plot(history.history['accuracy'], label='Train Accuracy')\n",
    "plt.plot(history.history['val_accuracy'], label='Val Accuracy')\n",
    "plt.plot(history.history['loss'], label='Train Loss')\n",
    "plt.plot(history.history['val_loss'], label='Val Loss')\n",
    "plt.title(\"Training and Validation Metrics\")\n",
    "plt.xlabel(\"Epoch\")\n",
    "plt.ylabel(\"Value\")\n",
    "plt.legend()\n",
    "plt.grid(True)\n",
    "plt.tight_layout()\n",
    "plt.savefig(training_plot_path)\n",
    "print(f\"📈 Training plot saved as {training_plot_path}\")\n",
    "plt.close()\n"
   ]
  },
  {
   "cell_type": "code",
   "execution_count": 8,
   "id": "224a4841",
   "metadata": {},
   "outputs": [
    {
     "name": "stdout",
     "output_type": "stream",
     "text": [
      "5/5 [==============================] - 2s 279ms/step\n",
      "📊 Confusion matrix saved as confusion_matrix_val.png\n"
     ]
    }
   ],
   "source": [
    "# ====================\n",
    "# CONFUSION MATRIX\n",
    "# ====================\n",
    "y_true = np.argmax(y_val, axis=1)\n",
    "y_pred_probs = model.predict(X_val)\n",
    "y_pred = np.argmax(y_pred_probs, axis=1)\n",
    "\n",
    "cm = confusion_matrix(y_true, y_pred)\n",
    "plt.figure(figsize=(8, 6))\n",
    "sns.heatmap(cm, annot=True, fmt=\"d\", cmap=\"Blues\",\n",
    "            xticklabels=class_names, yticklabels=class_names)\n",
    "plt.xlabel(\"Predicted\")\n",
    "plt.ylabel(\"Actual\")\n",
    "plt.title(\"Confusion Matrix (Validation Set)\")\n",
    "plt.tight_layout()\n",
    "plt.savefig(conf_matrix_path)\n",
    "print(f\"📊 Confusion matrix saved as {conf_matrix_path}\")\n",
    "plt.close()\n"
   ]
  },
  {
   "cell_type": "code",
   "execution_count": 9,
   "id": "beeb4bb4",
   "metadata": {},
   "outputs": [
    {
     "name": "stdout",
     "output_type": "stream",
     "text": [
      "\n",
      "Classification Report:\n",
      "\n",
      "                    precision    recall  f1-score   support\n",
      "\n",
      "      Non-Demented       0.59      1.00      0.74        10\n",
      "Very-Mild-Demented       1.00      0.89      0.94        44\n",
      "     Mild-Demented       1.00      0.95      0.98        43\n",
      " Moderate-Demented       1.00      0.97      0.98        60\n",
      "   Severe-Demented       0.00      0.00      0.00         0\n",
      "\n",
      "          accuracy                           0.94       157\n",
      "         macro avg       0.72      0.76      0.73       157\n",
      "      weighted avg       0.97      0.94      0.95       157\n",
      "\n"
     ]
    },
    {
     "name": "stderr",
     "output_type": "stream",
     "text": [
      "C:\\Users\\calviet\\AppData\\Roaming\\Python\\Python311\\site-packages\\sklearn\\metrics\\_classification.py:1517: UndefinedMetricWarning: Recall is ill-defined and being set to 0.0 in labels with no true samples. Use `zero_division` parameter to control this behavior.\n",
      "  _warn_prf(average, modifier, f\"{metric.capitalize()} is\", len(result))\n",
      "C:\\Users\\calviet\\AppData\\Roaming\\Python\\Python311\\site-packages\\sklearn\\metrics\\_classification.py:1517: UndefinedMetricWarning: Recall is ill-defined and being set to 0.0 in labels with no true samples. Use `zero_division` parameter to control this behavior.\n",
      "  _warn_prf(average, modifier, f\"{metric.capitalize()} is\", len(result))\n",
      "C:\\Users\\calviet\\AppData\\Roaming\\Python\\Python311\\site-packages\\sklearn\\metrics\\_classification.py:1517: UndefinedMetricWarning: Recall is ill-defined and being set to 0.0 in labels with no true samples. Use `zero_division` parameter to control this behavior.\n",
      "  _warn_prf(average, modifier, f\"{metric.capitalize()} is\", len(result))\n"
     ]
    }
   ],
   "source": [
    "# ====================\n",
    "# CLASSIFICATION REPORT\n",
    "# ====================\n",
    "print(\"\\nClassification Report:\\n\")\n",
    "print(classification_report(y_true, y_pred, target_names=class_names))"
   ]
  },
  {
   "cell_type": "code",
   "execution_count": null,
   "id": "a3ed7876",
   "metadata": {},
   "outputs": [],
   "source": []
  }
 ],
 "metadata": {
  "kernelspec": {
   "display_name": "Python 3",
   "language": "python",
   "name": "python3"
  },
  "language_info": {
   "codemirror_mode": {
    "name": "ipython",
    "version": 3
   },
   "file_extension": ".py",
   "mimetype": "text/x-python",
   "name": "python",
   "nbconvert_exporter": "python",
   "pygments_lexer": "ipython3",
   "version": "3.11.0"
  }
 },
 "nbformat": 4,
 "nbformat_minor": 5
}
